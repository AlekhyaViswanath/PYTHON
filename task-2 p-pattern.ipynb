{
 "cells": [
  {
   "cell_type": "code",
   "execution_count": 2,
   "metadata": {},
   "outputs": [
    {
     "name": "stdout",
     "output_type": "stream",
     "text": [
      "\n",
      "\n",
      "# \n",
      "\n",
      "# # \n",
      "\n",
      "# # # \n",
      "\n",
      "# # # # \n",
      "\n",
      "# # # # # \n",
      "\n"
     ]
    }
   ],
   "source": [
    "for i in range(6):  \n",
    "       for j in range(i):  \n",
    "          print('#',end=\" \")  \n",
    "       print(\"\\n\") \n"
   ]
  },
  {
   "cell_type": "code",
   "execution_count": 3,
   "metadata": {},
   "outputs": [
    {
     "name": "stdout",
     "output_type": "stream",
     "text": [
      "      # \n",
      "\n",
      "     # # \n",
      "\n",
      "    # # # \n",
      "\n",
      "   # # # # \n",
      "\n"
     ]
    }
   ],
   "source": [
    "n=4\n",
    "a=2*n-2 \n",
    "for i in range(0,n): \n",
    "       for j in range(0,a): \n",
    "               print(end=\" \") \n",
    "       a=a-1 \n",
    "       for j in range(0,i+1): \n",
    "               print(\"#\",end=\" \") \n",
    "       print(\"\\n\") "
   ]
  }
 ],
 "metadata": {
  "kernelspec": {
   "display_name": "Python 3",
   "language": "python",
   "name": "python3"
  },
  "language_info": {
   "codemirror_mode": {
    "name": "ipython",
    "version": 3
   },
   "file_extension": ".py",
   "mimetype": "text/x-python",
   "name": "python",
   "nbconvert_exporter": "python",
   "pygments_lexer": "ipython3",
   "version": "3.6.7"
  }
 },
 "nbformat": 4,
 "nbformat_minor": 2
}
